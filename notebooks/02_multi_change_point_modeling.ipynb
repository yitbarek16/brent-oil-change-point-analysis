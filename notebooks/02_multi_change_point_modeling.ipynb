{
  "nbformat": 4,
  "nbformat_minor": 0,
  "metadata": {
    "colab": {
      "provenance": []
    },
    "kernelspec": {
      "name": "python3",
      "display_name": "Python 3"
    },
    "language_info": {
      "name": "python"
    },
    "widgets": {
      "application/vnd.jupyter.widget-state+json": {
        "6a0f381207fb4824a7d1d44283fbbbde": {
          "model_module": "@jupyter-widgets/output",
          "model_name": "OutputModel",
          "model_module_version": "1.0.0",
          "state": {
            "_dom_classes": [],
            "_model_module": "@jupyter-widgets/output",
            "_model_module_version": "1.0.0",
            "_model_name": "OutputModel",
            "_view_count": null,
            "_view_module": "@jupyter-widgets/output",
            "_view_module_version": "1.0.0",
            "_view_name": "OutputView",
            "layout": "IPY_MODEL_f1b75e695e4f4fe2b469571e885fc529",
            "msg_id": "",
            "outputs": [
              {
                "output_type": "display_data",
                "data": {
                  "text/plain": "                                                                                                                   \n \u001b[1m          \u001b[0m \u001b[1m       \u001b[0m \u001b[1m        \u001b[0m \u001b[1m         \u001b[0m \u001b[1m \u001b[0m\u001b[1mAccept  \u001b[0m\u001b[1m \u001b[0m \u001b[1m          \u001b[0m \u001b[1m \u001b[0m\u001b[1mStep    \u001b[0m\u001b[1m \u001b[0m \u001b[1m \u001b[0m\u001b[1mGrad    \u001b[0m\u001b[1m \u001b[0m \u001b[1m \u001b[0m\u001b[1mSampling\u001b[0m\u001b[1m \u001b[0m \u001b[1m         \u001b[0m \u001b[1m          \u001b[0m \n \u001b[1m \u001b[0m\u001b[1mProgress\u001b[0m\u001b[1m \u001b[0m \u001b[1m \u001b[0m\u001b[1mDraws\u001b[0m\u001b[1m \u001b[0m \u001b[1m \u001b[0m\u001b[1mTuning\u001b[0m\u001b[1m \u001b[0m \u001b[1m \u001b[0m\u001b[1mScaling\u001b[0m\u001b[1m \u001b[0m \u001b[1m \u001b[0m\u001b[1mRate    \u001b[0m\u001b[1m \u001b[0m \u001b[1m \u001b[0m\u001b[1mDiverge…\u001b[0m\u001b[1m \u001b[0m \u001b[1m \u001b[0m\u001b[1msize    \u001b[0m\u001b[1m \u001b[0m \u001b[1m \u001b[0m\u001b[1mevals   \u001b[0m\u001b[1m \u001b[0m \u001b[1m \u001b[0m\u001b[1mSpeed   \u001b[0m\u001b[1m \u001b[0m \u001b[1m \u001b[0m\u001b[1mElapsed\u001b[0m\u001b[1m \u001b[0m \u001b[1m \u001b[0m\u001b[1mRemaini…\u001b[0m\u001b[1m \u001b[0m \n ───────────────────────────────────────────────────────────────────────────────────────────────────────────────── \n  \u001b[38;2;31;119;180m━━━━━━━━\u001b[0m   7000    False    28.81     1.21       0          0.52       7          270.98     0:00:25   0:00:00   \n                                                                                    draws/s                        \n  \u001b[38;2;31;119;180m━━━━━━━━\u001b[0m   7000    False    30.74     0.67       0          0.48       3          145.51     0:00:48   0:00:00   \n                                                                                    draws/s                        \n                                                                                                                   \n",
                  "text/html": "<pre style=\"white-space:pre;overflow-x:auto;line-height:normal;font-family:Menlo,'DejaVu Sans Mono',consolas,'Courier New',monospace\">                                                                                                                   \n <span style=\"font-weight: bold\">          </span> <span style=\"font-weight: bold\">       </span> <span style=\"font-weight: bold\">        </span> <span style=\"font-weight: bold\">         </span> <span style=\"font-weight: bold\"> Accept   </span> <span style=\"font-weight: bold\">          </span> <span style=\"font-weight: bold\"> Step     </span> <span style=\"font-weight: bold\"> Grad     </span> <span style=\"font-weight: bold\"> Sampling </span> <span style=\"font-weight: bold\">         </span> <span style=\"font-weight: bold\">          </span> \n <span style=\"font-weight: bold\"> Progress </span> <span style=\"font-weight: bold\"> Draws </span> <span style=\"font-weight: bold\"> Tuning </span> <span style=\"font-weight: bold\"> Scaling </span> <span style=\"font-weight: bold\"> Rate     </span> <span style=\"font-weight: bold\"> Diverge… </span> <span style=\"font-weight: bold\"> size     </span> <span style=\"font-weight: bold\"> evals    </span> <span style=\"font-weight: bold\"> Speed    </span> <span style=\"font-weight: bold\"> Elapsed </span> <span style=\"font-weight: bold\"> Remaini… </span> \n ───────────────────────────────────────────────────────────────────────────────────────────────────────────────── \n  <span style=\"color: #1f77b4; text-decoration-color: #1f77b4\">━━━━━━━━</span>   7000    False    28.81     1.21       0          0.52       7          270.98     0:00:25   0:00:00   \n                                                                                    draws/s                        \n  <span style=\"color: #1f77b4; text-decoration-color: #1f77b4\">━━━━━━━━</span>   7000    False    30.74     0.67       0          0.48       3          145.51     0:00:48   0:00:00   \n                                                                                    draws/s                        \n                                                                                                                   \n</pre>\n"
                },
                "metadata": {}
              }
            ]
          }
        },
        "f1b75e695e4f4fe2b469571e885fc529": {
          "model_module": "@jupyter-widgets/base",
          "model_name": "LayoutModel",
          "model_module_version": "1.2.0",
          "state": {
            "_model_module": "@jupyter-widgets/base",
            "_model_module_version": "1.2.0",
            "_model_name": "LayoutModel",
            "_view_count": null,
            "_view_module": "@jupyter-widgets/base",
            "_view_module_version": "1.2.0",
            "_view_name": "LayoutView",
            "align_content": null,
            "align_items": null,
            "align_self": null,
            "border": null,
            "bottom": null,
            "display": null,
            "flex": null,
            "flex_flow": null,
            "grid_area": null,
            "grid_auto_columns": null,
            "grid_auto_flow": null,
            "grid_auto_rows": null,
            "grid_column": null,
            "grid_gap": null,
            "grid_row": null,
            "grid_template_areas": null,
            "grid_template_columns": null,
            "grid_template_rows": null,
            "height": null,
            "justify_content": null,
            "justify_items": null,
            "left": null,
            "margin": null,
            "max_height": null,
            "max_width": null,
            "min_height": null,
            "min_width": null,
            "object_fit": null,
            "object_position": null,
            "order": null,
            "overflow": null,
            "overflow_x": null,
            "overflow_y": null,
            "padding": null,
            "right": null,
            "top": null,
            "visibility": null,
            "width": null
          }
        }
      }
    }
  },
  "cells": [
    {
      "cell_type": "markdown",
      "source": [
        "# Brent Oil Price Multi Change Point Modeling (Raw Prices) - Colab Version"
      ],
      "metadata": {
        "id": "KBDXtl2kA_JB"
      }
    },
    {
      "cell_type": "markdown",
      "source": [
        "Setups and Imports"
      ],
      "metadata": {
        "id": "rRFeOf3fBCnC"
      }
    },
    {
      "cell_type": "code",
      "execution_count": 1,
      "metadata": {
        "id": "tS9hYI4tsO6k",
        "colab": {
          "base_uri": "https://localhost:8080/",
          "height": 73
        },
        "outputId": "515d5dd8-c0d5-48ae-e0aa-728fb9f908a3"
      },
      "outputs": [
        {
          "output_type": "display_data",
          "data": {
            "text/plain": [
              "<IPython.core.display.HTML object>"
            ],
            "text/html": [
              "\n",
              "     <input type=\"file\" id=\"files-b832c5ac-11b2-47a0-b0fd-38b232826c5c\" name=\"files[]\" multiple disabled\n",
              "        style=\"border:none\" />\n",
              "     <output id=\"result-b832c5ac-11b2-47a0-b0fd-38b232826c5c\">\n",
              "      Upload widget is only available when the cell has been executed in the\n",
              "      current browser session. Please rerun this cell to enable.\n",
              "      </output>\n",
              "      <script>// Copyright 2017 Google LLC\n",
              "//\n",
              "// Licensed under the Apache License, Version 2.0 (the \"License\");\n",
              "// you may not use this file except in compliance with the License.\n",
              "// You may obtain a copy of the License at\n",
              "//\n",
              "//      http://www.apache.org/licenses/LICENSE-2.0\n",
              "//\n",
              "// Unless required by applicable law or agreed to in writing, software\n",
              "// distributed under the License is distributed on an \"AS IS\" BASIS,\n",
              "// WITHOUT WARRANTIES OR CONDITIONS OF ANY KIND, either express or implied.\n",
              "// See the License for the specific language governing permissions and\n",
              "// limitations under the License.\n",
              "\n",
              "/**\n",
              " * @fileoverview Helpers for google.colab Python module.\n",
              " */\n",
              "(function(scope) {\n",
              "function span(text, styleAttributes = {}) {\n",
              "  const element = document.createElement('span');\n",
              "  element.textContent = text;\n",
              "  for (const key of Object.keys(styleAttributes)) {\n",
              "    element.style[key] = styleAttributes[key];\n",
              "  }\n",
              "  return element;\n",
              "}\n",
              "\n",
              "// Max number of bytes which will be uploaded at a time.\n",
              "const MAX_PAYLOAD_SIZE = 100 * 1024;\n",
              "\n",
              "function _uploadFiles(inputId, outputId) {\n",
              "  const steps = uploadFilesStep(inputId, outputId);\n",
              "  const outputElement = document.getElementById(outputId);\n",
              "  // Cache steps on the outputElement to make it available for the next call\n",
              "  // to uploadFilesContinue from Python.\n",
              "  outputElement.steps = steps;\n",
              "\n",
              "  return _uploadFilesContinue(outputId);\n",
              "}\n",
              "\n",
              "// This is roughly an async generator (not supported in the browser yet),\n",
              "// where there are multiple asynchronous steps and the Python side is going\n",
              "// to poll for completion of each step.\n",
              "// This uses a Promise to block the python side on completion of each step,\n",
              "// then passes the result of the previous step as the input to the next step.\n",
              "function _uploadFilesContinue(outputId) {\n",
              "  const outputElement = document.getElementById(outputId);\n",
              "  const steps = outputElement.steps;\n",
              "\n",
              "  const next = steps.next(outputElement.lastPromiseValue);\n",
              "  return Promise.resolve(next.value.promise).then((value) => {\n",
              "    // Cache the last promise value to make it available to the next\n",
              "    // step of the generator.\n",
              "    outputElement.lastPromiseValue = value;\n",
              "    return next.value.response;\n",
              "  });\n",
              "}\n",
              "\n",
              "/**\n",
              " * Generator function which is called between each async step of the upload\n",
              " * process.\n",
              " * @param {string} inputId Element ID of the input file picker element.\n",
              " * @param {string} outputId Element ID of the output display.\n",
              " * @return {!Iterable<!Object>} Iterable of next steps.\n",
              " */\n",
              "function* uploadFilesStep(inputId, outputId) {\n",
              "  const inputElement = document.getElementById(inputId);\n",
              "  inputElement.disabled = false;\n",
              "\n",
              "  const outputElement = document.getElementById(outputId);\n",
              "  outputElement.innerHTML = '';\n",
              "\n",
              "  const pickedPromise = new Promise((resolve) => {\n",
              "    inputElement.addEventListener('change', (e) => {\n",
              "      resolve(e.target.files);\n",
              "    });\n",
              "  });\n",
              "\n",
              "  const cancel = document.createElement('button');\n",
              "  inputElement.parentElement.appendChild(cancel);\n",
              "  cancel.textContent = 'Cancel upload';\n",
              "  const cancelPromise = new Promise((resolve) => {\n",
              "    cancel.onclick = () => {\n",
              "      resolve(null);\n",
              "    };\n",
              "  });\n",
              "\n",
              "  // Wait for the user to pick the files.\n",
              "  const files = yield {\n",
              "    promise: Promise.race([pickedPromise, cancelPromise]),\n",
              "    response: {\n",
              "      action: 'starting',\n",
              "    }\n",
              "  };\n",
              "\n",
              "  cancel.remove();\n",
              "\n",
              "  // Disable the input element since further picks are not allowed.\n",
              "  inputElement.disabled = true;\n",
              "\n",
              "  if (!files) {\n",
              "    return {\n",
              "      response: {\n",
              "        action: 'complete',\n",
              "      }\n",
              "    };\n",
              "  }\n",
              "\n",
              "  for (const file of files) {\n",
              "    const li = document.createElement('li');\n",
              "    li.append(span(file.name, {fontWeight: 'bold'}));\n",
              "    li.append(span(\n",
              "        `(${file.type || 'n/a'}) - ${file.size} bytes, ` +\n",
              "        `last modified: ${\n",
              "            file.lastModifiedDate ? file.lastModifiedDate.toLocaleDateString() :\n",
              "                                    'n/a'} - `));\n",
              "    const percent = span('0% done');\n",
              "    li.appendChild(percent);\n",
              "\n",
              "    outputElement.appendChild(li);\n",
              "\n",
              "    const fileDataPromise = new Promise((resolve) => {\n",
              "      const reader = new FileReader();\n",
              "      reader.onload = (e) => {\n",
              "        resolve(e.target.result);\n",
              "      };\n",
              "      reader.readAsArrayBuffer(file);\n",
              "    });\n",
              "    // Wait for the data to be ready.\n",
              "    let fileData = yield {\n",
              "      promise: fileDataPromise,\n",
              "      response: {\n",
              "        action: 'continue',\n",
              "      }\n",
              "    };\n",
              "\n",
              "    // Use a chunked sending to avoid message size limits. See b/62115660.\n",
              "    let position = 0;\n",
              "    do {\n",
              "      const length = Math.min(fileData.byteLength - position, MAX_PAYLOAD_SIZE);\n",
              "      const chunk = new Uint8Array(fileData, position, length);\n",
              "      position += length;\n",
              "\n",
              "      const base64 = btoa(String.fromCharCode.apply(null, chunk));\n",
              "      yield {\n",
              "        response: {\n",
              "          action: 'append',\n",
              "          file: file.name,\n",
              "          data: base64,\n",
              "        },\n",
              "      };\n",
              "\n",
              "      let percentDone = fileData.byteLength === 0 ?\n",
              "          100 :\n",
              "          Math.round((position / fileData.byteLength) * 100);\n",
              "      percent.textContent = `${percentDone}% done`;\n",
              "\n",
              "    } while (position < fileData.byteLength);\n",
              "  }\n",
              "\n",
              "  // All done.\n",
              "  yield {\n",
              "    response: {\n",
              "      action: 'complete',\n",
              "    }\n",
              "  };\n",
              "}\n",
              "\n",
              "scope.google = scope.google || {};\n",
              "scope.google.colab = scope.google.colab || {};\n",
              "scope.google.colab._files = {\n",
              "  _uploadFiles,\n",
              "  _uploadFilesContinue,\n",
              "};\n",
              "})(self);\n",
              "</script> "
            ]
          },
          "metadata": {}
        },
        {
          "output_type": "stream",
          "name": "stdout",
          "text": [
            "Saving brent_oil_log_returns.csv to brent_oil_log_returns.csv\n"
          ]
        }
      ],
      "source": [
        "import pymc as pm\n",
        "import pytensor.tensor as pt\n",
        "import numpy as np\n",
        "import pandas as pd\n",
        "import matplotlib.pyplot as plt\n",
        "import arviz as az\n",
        "\n",
        "from google.colab import files\n",
        "uploaded = files.upload()\n",
        "\n",
        "# Load Brent oil price data\n",
        "df = pd.read_csv(\"brent_oil_log_returns.csv\")\n",
        "df['Date'] = pd.to_datetime(df['Date'])\n",
        "df = df.sort_values(\"Date\").reset_index(drop=True)\n",
        "prices = df['Price'].values\n",
        "dates = df['Date'].values\n",
        "n = len(prices)"
      ]
    },
    {
      "cell_type": "markdown",
      "source": [
        "Model: Multi Change Point in Raw Price Mean"
      ],
      "metadata": {
        "id": "wkoEXL9ZBGyb"
      }
    },
    {
      "cell_type": "code",
      "source": [
        "# Set number of change points\n",
        "K = 3\n",
        "\n",
        "# Define the model\n",
        "with pm.Model() as model:\n",
        "    # Sample unordered change points\n",
        "    tau_raw = pm.DiscreteUniform(\"tau_raw\", lower=0, upper=n, shape=K)\n",
        "    tau = pm.Deterministic(\"tau\", pt.sort(tau_raw))  # Use PyTensor's sort\n",
        "\n",
        "    # Segment means\n",
        "    mu = pm.Normal(\"mu\", mu=np.mean(prices), sigma=np.std(prices), shape=K+1)\n",
        "\n",
        "    # Shared standard deviation\n",
        "    sigma = pm.HalfNormal(\"sigma\", sigma=10)\n",
        "\n",
        "    # Build piecewise mean array\n",
        "    mu_t = pt.zeros(n)\n",
        "    idx_start = 0\n",
        "\n",
        "    for i in range(K):\n",
        "        idx_end = tau[i]\n",
        "        mu_t = pt.set_subtensor(mu_t[idx_start:idx_end], mu[i])\n",
        "        idx_start = idx_end\n",
        "\n",
        "    mu_t = pt.set_subtensor(mu_t[idx_start:], mu[K])  # Final segment\n",
        "\n",
        "    # Likelihood\n",
        "    obs = pm.Normal(\"obs\", mu=mu_t, sigma=sigma, observed=prices)\n",
        "\n",
        "    # Sampling\n",
        "    trace = pm.sample(5000, tune=2000, target_accept=0.95, random_seed=42)"
      ],
      "metadata": {
        "colab": {
          "base_uri": "https://localhost:8080/",
          "height": 218,
          "referenced_widgets": [
            "6a0f381207fb4824a7d1d44283fbbbde",
            "f1b75e695e4f4fe2b469571e885fc529"
          ]
        },
        "id": "asJ9yLkHtRTn",
        "outputId": "47fb7aee-b4ff-4686-b9b8-e011dbab38c9"
      },
      "execution_count": 2,
      "outputs": [
        {
          "output_type": "display_data",
          "data": {
            "text/plain": [
              "Output()"
            ],
            "application/vnd.jupyter.widget-view+json": {
              "version_major": 2,
              "version_minor": 0,
              "model_id": "6a0f381207fb4824a7d1d44283fbbbde"
            }
          },
          "metadata": {}
        },
        {
          "output_type": "display_data",
          "data": {
            "text/plain": [],
            "text/html": [
              "<pre style=\"white-space:pre;overflow-x:auto;line-height:normal;font-family:Menlo,'DejaVu Sans Mono',consolas,'Courier New',monospace\"></pre>\n"
            ]
          },
          "metadata": {}
        },
        {
          "output_type": "stream",
          "name": "stderr",
          "text": [
            "ERROR:pymc.stats.convergence:The effective sample size per chain is smaller than 100 for some parameters.  A higher number is needed for reliable rhat and ess computation. See https://arxiv.org/abs/1903.08008 for details\n"
          ]
        }
      ]
    },
    {
      "cell_type": "code",
      "source": [
        "# Summary\n",
        "summary = az.summary(trace, var_names=[\"tau\", \"mu\", \"sigma\"])\n",
        "print(summary)\n",
        "\n",
        "# Extract means and taus\n",
        "mean_tau = trace.posterior[\"tau\"].mean(dim=(\"chain\", \"draw\")).values.astype(int).flatten()\n",
        "change_dates = [dates[i] for i in mean_tau]\n",
        "mu_vals = trace.posterior[\"mu\"].mean(dim=(\"chain\", \"draw\")).values.flatten()\n",
        "\n",
        "# Print info\n",
        "print(\"\\n Detected Change Points:\")\n",
        "for i, d in enumerate(change_dates):\n",
        "    print(f\"  Change {i+1}: {d}\")"
      ],
      "metadata": {
        "colab": {
          "base_uri": "https://localhost:8080/"
        },
        "id": "sM_QvfVgsuzj",
        "outputId": "d8e01c02-c68f-4be6-9da2-edba2f03d16c"
      },
      "execution_count": 3,
      "outputs": [
        {
          "output_type": "stream",
          "name": "stdout",
          "text": [
            "            mean      sd    hdi_3%   hdi_97%  mcse_mean  mcse_sd  ess_bulk  \\\n",
            "tau[0]  3784.625  31.893  3743.000  3853.000      0.965    0.569    1176.0   \n",
            "tau[1]  4376.050  13.382  4359.000  4409.000      1.179    0.345      70.0   \n",
            "tau[2]  4787.673  47.322  4638.000  4813.000     19.077   26.673      15.0   \n",
            "mu[0]     19.301   0.276    18.788    19.813      0.003    0.003    9878.0   \n",
            "mu[1]     29.578   0.812    28.076    31.118      0.016    0.009    2637.0   \n",
            "mu[2]     52.459   1.714    47.997    55.079      0.585    0.709      18.0   \n",
            "mu[3]     77.346   0.362    76.606    78.005      0.091    0.074      21.0   \n",
            "sigma     17.111   0.137    16.863    17.380      0.009    0.001     225.0   \n",
            "\n",
            "        ess_tail  r_hat  \n",
            "tau[0]    1980.0   1.00  \n",
            "tau[1]      65.0   1.03  \n",
            "tau[2]      10.0   1.09  \n",
            "mu[0]     7609.0   1.00  \n",
            "mu[1]     4103.0   1.00  \n",
            "mu[2]       11.0   1.07  \n",
            "mu[3]       14.0   1.06  \n",
            "sigma     2527.0   1.01  \n",
            "\n",
            " Detected Change Points:\n",
            "  Change 1: 2002-04-17T00:00:00.000000000\n",
            "  Change 2: 2004-08-05T00:00:00.000000000\n",
            "  Change 3: 2006-03-09T00:00:00.000000000\n"
          ]
        }
      ]
    },
    {
      "cell_type": "markdown",
      "source": [
        "Build and save change point table"
      ],
      "metadata": {
        "id": "c3TfFFVgHVc6"
      }
    },
    {
      "cell_type": "code",
      "source": [
        "entries = []\n",
        "for i, idx in enumerate(mean_tau):\n",
        "    mean_before = float(mu_vals[i])\n",
        "    mean_after = float(mu_vals[i+1]) if i+1 < len(mu_vals) else None\n",
        "    delta = mean_after - mean_before if mean_after is not None else None\n",
        "    pct_change = (delta / mean_before * 100) if (mean_before != 0 and delta is not None) else None\n",
        "\n",
        "    entries.append({\n",
        "        \"change_number\": i + 1,\n",
        "        \"change_index\": int(idx),\n",
        "        \"change_date\": pd.to_datetime(change_dates[i]).strftime(\"%Y-%m-%d\"),\n",
        "        \"mean_before\": mean_before,\n",
        "        \"mean_after\": mean_after,\n",
        "        \"delta\": delta,\n",
        "        \"pct_change\": pct_change\n",
        "    })\n",
        "\n",
        "cp_df_multi = pd.DataFrame(entries)\n",
        "\n",
        "# Save to CSV\n",
        "out_csv = \"multi_change_points.csv\"\n",
        "cp_df_multi.to_csv(out_csv, index=False)\n",
        "\n",
        "print(f\"\\nSaved {len(entries)} change points to {out_csv}\")\n",
        "print(cp_df_multi)\n"
      ],
      "metadata": {
        "colab": {
          "base_uri": "https://localhost:8080/"
        },
        "id": "PUOBc6AIFau9",
        "outputId": "906902c3-6aeb-495d-d170-160be00559c2"
      },
      "execution_count": 7,
      "outputs": [
        {
          "output_type": "stream",
          "name": "stdout",
          "text": [
            "\n",
            "Saved 3 change points to multi_change_points.csv\n",
            "   change_number  change_index change_date  mean_before  mean_after  \\\n",
            "0              1          3784  2002-04-17    19.300539   29.578002   \n",
            "1              2          4376  2004-08-05    29.578002   52.458963   \n",
            "2              3          4787  2006-03-09    52.458963   77.345927   \n",
            "\n",
            "       delta  pct_change  \n",
            "0  10.277463   53.249614  \n",
            "1  22.880961   77.358033  \n",
            "2  24.886964   47.440824  \n"
          ]
        }
      ]
    }
  ]
}